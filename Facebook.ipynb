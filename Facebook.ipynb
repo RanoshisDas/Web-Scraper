{
 "cells": [
  {
   "cell_type": "code",
   "execution_count": 2,
   "metadata": {},
   "outputs": [
    {
     "name": "stdout",
     "output_type": "stream",
     "text": [
      "Patiram High School, South Dinajpur\n",
      "Kachi Kancha Shiksha Angan\n",
      "Brainware University\n",
      "Barasat\n",
      "Patiram, West Bengal, India\n",
      "Ranoshis Das\n",
      "India\n",
      "Ranoshis Das\n",
      "Iit Kgp\n",
      "Profile · Digital creator\n",
      "Went to Patiram High School, South Dinajpur\n",
      "Went to Kachi Kancha Shiksha Angan\n",
      "Studies Bachelors of technology (B.Tech) in Computer Science and Engineering (CSE) with specialization in Data Science (DS) at Brainware University\n",
      "Lives in Barasat\n",
      "From Patiram, West Bengal, India\n",
      "Single\n",
      "ranoshisdas\n",
      "ranoshis-das\n",
      "phsnccyt\n",
      "ranoshis\n",
      "RanoshisDas\n",
      "play.google.com/store/apps/dev?id=6693761853693655701\n",
      "Youtube.com/@phsnccyt\n"
     ]
    }
   ],
   "source": [
    "from selenium import webdriver\n",
    "from bs4 import BeautifulSoup as bs\n",
    "from selenium.webdriver.common.by import By\n",
    "\n",
    "options = webdriver.ChromeOptions()\n",
    "options.add_argument('--headless')\n",
    "options.add_argument('--no-sandbox')\n",
    "options.add_argument('--disable-dev-shm-usage')\n",
    "\n",
    "driver = webdriver.Chrome(options=options)\n",
    "#Basic setup\n",
    "\n",
    "driver.get('https://www.facebook.com/I.am.ranoshis')\n",
    "htmml=driver.page_source\n",
    "soup=bs(htmml,'html.parser')\n",
    "#need to insert the user ID only  ....com/USER_ID\n",
    " \n",
    "\n",
    "for element in driver.find_elements(By.XPATH,'//a[@class=\"x1i10hfl xjbqb8w x1ejq31n xd10rxx x1sy0etr x17r0tee x972fbf xcfux6l x1qhh985 xm0m39n x9f619 x1ypdohk xt0psk2 xe8uvvx xdj266r x11i5rnm xat24cr x1mh8g0r xexx8yu x4uap5 x18d9i69 xkhd6sd x16tdsg8 x1hl2dhg xggy1nq x1a2a7pz x1sur9pj xkrqix3 xzsf02u x1s688f\"]'):\n",
    "  print(element.text)\n",
    "  \n",
    "for e in driver.find_elements(By.XPATH,'.//div[@class=\"x9f619 x1n2onr6 x1ja2u2z x78zum5 xdt5ytf x193iq5w xeuugli x1r8uery x1iyjqo2 xs83m0k xsyo7zv x16hj40l x10b6aqq x1yrsyyn\"]/ul'):\n",
    "  print(e.text)\n",
    "  \n",
    "div=soup.find_all(class_=\"x9f619 x1n2onr6 x1ja2u2z x78zum5 xdt5ytf x193iq5w xeuugli x1r8uery x1iyjqo2 xs83m0k xsyo7zv x16hj40l x10b6aqq x1yrsyyn\")[2]"
   ]
  }
 ],
 "metadata": {
  "kernelspec": {
   "display_name": ".venv",
   "language": "python",
   "name": "python3"
  },
  "language_info": {
   "codemirror_mode": {
    "name": "ipython",
    "version": 3
   },
   "file_extension": ".py",
   "mimetype": "text/x-python",
   "name": "python",
   "nbconvert_exporter": "python",
   "pygments_lexer": "ipython3",
   "version": "3.12.2"
  }
 },
 "nbformat": 4,
 "nbformat_minor": 2
}
