{
 "cells": [
  {
   "cell_type": "code",
   "execution_count": 39,
   "metadata": {},
   "outputs": [
    {
     "data": {
      "text/plain": [
       "'ranoshisdas\\nFollow\\nMessage\\n102 posts\\n392 followers\\n108 following\\nRanoshis Das\\nranoshisdas\\n🇮🇳Indian🇮🇳\\nchess & coding\\nandroid developer\\n🤍 আমি বাঙ্গালী🤍\\n🚩San... \\nmore\\nyoutube.com/c/PATIRAMHIGHSCHOOL + 1'"
      ]
     },
     "execution_count": 39,
     "metadata": {},
     "output_type": "execute_result"
    }
   ],
   "source": [
    "from selenium import webdriver\n",
    "from selenium.webdriver.chrome.options import Options\n",
    "from selenium.webdriver.common.by import By\n",
    "from bs4 import BeautifulSoup\n",
    "import time\n",
    "\n",
    "chrome_options = Options()\n",
    "chrome_options.add_experimental_option('detach',True)\n",
    "chrome_options.add_argument('--headless')\n",
    "driver = webdriver.Chrome(options=chrome_options,keep_alive=True)\n",
    "\n",
    "# url=\"https://www.instagram.com/ranoshisdas/\"\n",
    "def Scrap_Instragram(url):\n",
    "    driver.get(url)\n",
    "    time.sleep(2)\n",
    "    bio=driver.find_element(By.XPATH,\"//header\")\n",
    "    return bio.text\n",
    "\n",
    "Scrap_Instragram(\"https://www.instagram.com/ranoshisdas/\")"
   ]
  }
 ],
 "metadata": {
  "kernelspec": {
   "display_name": ".venv",
   "language": "python",
   "name": "python3"
  },
  "language_info": {
   "codemirror_mode": {
    "name": "ipython",
    "version": 3
   },
   "file_extension": ".py",
   "mimetype": "text/x-python",
   "name": "python",
   "nbconvert_exporter": "python",
   "pygments_lexer": "ipython3",
   "version": "3.12.2"
  }
 },
 "nbformat": 4,
 "nbformat_minor": 2
}
