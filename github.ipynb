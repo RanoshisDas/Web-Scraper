{
 "cells": [
  {
   "cell_type": "markdown",
   "metadata": {},
   "source": [
    "GitHub Scraper"
   ]
  },
  {
   "cell_type": "code",
   "execution_count": 80,
   "metadata": {},
   "outputs": [
    {
     "name": "stdout",
     "output_type": "stream",
     "text": [
      "['👻', 'Ranoshis Das', 'RanoshisDas', 'Follow', '🌝Skills are made by Experiences and Experience made by Failure & Success 🤓', '4 followers · 7 following', 'kolkata', 'Facebook', 'I.am.ranoshis', 'Instagram', 'ranoshisdas', 'X', '@ranoshis', 'https://play.google.com/store/apps/dev?id=6693761853693655701', 'Highlights', 'PRO', 'Block or Report']\n"
     ]
    },
    {
     "data": {
      "text/plain": [
       "{'Name': 'Ranoshis Das',\n",
       " 'User Name': 'RanoshisDas',\n",
       " 'about': '🌝Skills are made by Experiences and Experience made by Failure & Success 🤓',\n",
       " 'Total Follower': '4',\n",
       " 'Total Repository': '12',\n",
       " 'Total Projects': '0',\n",
       " 'Total Packages': '0'}"
      ]
     },
     "execution_count": 80,
     "metadata": {},
     "output_type": "execute_result"
    }
   ],
   "source": [
    "from selenium import webdriver\n",
    "from selenium.webdriver.chrome.options import Options\n",
    "from selenium.webdriver.common.by import By\n",
    "from bs4 import BeautifulSoup\n",
    "\n",
    "chrome_options = Options()\n",
    "chrome_options.add_argument('--headless')\n",
    "chrome_options.add_experimental_option('detach',True)\n",
    "driver = webdriver.Chrome(options=chrome_options,keep_alive=True)\n",
    "\n",
    "def getAbout(pro):\n",
    "    if('followers · ' in pro[4]):\n",
    "        has=False\n",
    "        return\"no Caption\"\n",
    "    else:\n",
    "        return pro[4]\n",
    "    \n",
    "def getFollower(pro):\n",
    "    if('followers · ' in pro[4]):\n",
    "        return pro[4].split(\" \")[0]\n",
    "    else:\n",
    "        return pro[5].split(\" \")[0]\n",
    "\n",
    "def Scrap_Github(url):\n",
    "    driver.get(url)\n",
    "\n",
    "    pro=driver.find_element(By.XPATH,'//div[@class=\"js-profile-editable-replace\"]').text.split(\"\\n\")\n",
    "\n",
    "    html=driver.page_source\n",
    "    soup=BeautifulSoup(html)\n",
    "    li=[]\n",
    "    repoCount=soup.find_all('div',class_=\"Layout-main\")[0]\n",
    "    li=repoCount.get_text(separator=\"\\n\",strip=True).split('\\n')\n",
    "    Profile={\n",
    "    \"Name\":pro[1],\n",
    "    'User Name':pro[2],\n",
    "    'about':getAbout(pro),\n",
    "    'Total Follower':getFollower(pro),\n",
    "    'Total Repository': li[2],\n",
    "    'Total Projects': li[4],\n",
    "    'Total Packages': li[6]\n",
    "    }\n",
    "    print(pro)\n",
    "    return Profile\n",
    "\n",
    "# url=\"https://github.com/ranoshisdas/\"\n",
    "# Scrap_Github(url)"
   ]
  }
 ],
 "metadata": {
  "kernelspec": {
   "display_name": ".venv",
   "language": "python",
   "name": "python3"
  },
  "language_info": {
   "codemirror_mode": {
    "name": "ipython",
    "version": 3
   },
   "file_extension": ".py",
   "mimetype": "text/x-python",
   "name": "python",
   "nbconvert_exporter": "python",
   "pygments_lexer": "ipython3",
   "version": "3.12.2"
  }
 },
 "nbformat": 4,
 "nbformat_minor": 2
}
