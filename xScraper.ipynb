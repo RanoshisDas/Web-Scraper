{
 "cells": [
  {
   "cell_type": "code",
   "execution_count": 9,
   "metadata": {},
   "outputs": [
    {
     "name": "stdout",
     "output_type": "stream",
     "text": [
      "{\n",
      "    \"name\": \"Ranoshis Das\",\n",
      "    \"username\": \"@ranoshis\",\n",
      "    \"bio\": \"Do what ever you want that gives you happiness Ψ(≧ω≦)Ψ\",\n",
      "    \"occupation\": null,\n",
      "    \"location\": \"West Bengal, India\",\n",
      "    \"born\": \"October 25\",\n",
      "    \"joined\": \"March 2020\",\n",
      "    \"following\": 15,\n",
      "    \"followers\": 20\n",
      "}\n"
     ]
    }
   ],
   "source": [
    "from selenium import webdriver\n",
    "from selenium.webdriver.chrome.options import Options\n",
    "from selenium.webdriver.common.by import By\n",
    "from bs4 import BeautifulSoup\n",
    "import time\n",
    "import json\n",
    "import re\n",
    "\n",
    "chrome_options = Options()\n",
    "chrome_options.add_experimental_option('detach',True)\n",
    "driver = webdriver.Chrome(options=chrome_options,keep_alive=True)\n",
    "#credential\n",
    "# \"https://x.com/ranoshis/\"\n",
    "url1=\"\"\n",
    "userEmail=\"Login@gmail.com\"\n",
    "userName=\"LoginPass\"\n",
    "passWord=\"RanoshisTester@2025\"\n",
    "# url='https://x.com/i/flow/login'\n",
    "\n",
    "\n",
    "def Scrap_twitter(url):\n",
    "    url1=url\n",
    "    driver.get(url1)\n",
    "    time.sleep(2)\n",
    "    user_mail(driver)\n",
    "    time.sleep(4)\n",
    "    user_name(driver)\n",
    "    time.sleep(2)\n",
    "    user_pass(driver)\n",
    "    time.sleep(5)\n",
    "    # driver.get(url1)\n",
    "    bio=driver.find_element(By.XPATH,'//div[@class=\"css-175oi2r r-3pj75a r-ttdzmv r-1ifxtd0\"]').text\n",
    "    bio=bio.replace(\"Born\",\"\\nBorn:\")\n",
    "    bio=bio.replace(\"Joined\",\"\\nJoined:\")\n",
    "\n",
    "    # Example scraped text (can change dynamically)\n",
    "    scraped_text = bio\n",
    "\n",
    "    # Regular expressions to extract information\n",
    "    name_match = re.search(r\"^(.*?)\\n@\", scraped_text, re.MULTILINE)\n",
    "    username_match = re.search(r\"(@\\w+)\", scraped_text)\n",
    "    bio_match = re.search(r\"@[\\w]+\\n(.*?)\\n(Software|West)\", scraped_text, re.DOTALL)\n",
    "    occupation_match = re.search(r\"(Software.*)\\nWest\", scraped_text, re.DOTALL)\n",
    "    location_match = re.search(r\"West Bengal, India\", scraped_text)\n",
    "    born_match = re.search(r\"Born: (.+)\", scraped_text)\n",
    "    joined_match = re.search(r\"Joined: (.+)\", scraped_text)\n",
    "    following_match = re.search(r\"(\\d+) Following\", scraped_text)\n",
    "    followers_match = re.search(r\"(\\d+) Followers\", scraped_text)\n",
    "\n",
    "    # Constructing a JSON-friendly dictionary\n",
    "    parsed_data = {\n",
    "    \"name\": name_match.group(1).strip() if name_match else None,\n",
    "    \"username\": username_match.group(1) if username_match else None,\n",
    "    \"bio\": bio_match.group(1).strip() if bio_match else None,\n",
    "    \"occupation\": occupation_match.group(1).strip() if occupation_match else None,\n",
    "    \"location\": location_match.group(0) if location_match else None,    \"born\": born_match.group(1) if born_match else None,\n",
    "    \"joined\": joined_match.group(1) if joined_match else None,\n",
    "    \"following\": int(following_match.group(1)) if following_match else None,\n",
    "    \"followers\": int(followers_match.group(1)) if followers_match else None,\n",
    "    }\n",
    "\n",
    "    # Convert to JSON\n",
    "    json_output = json.dumps(parsed_data, indent=4, ensure_ascii=False)\n",
    "    return json_output\n",
    "\n",
    "def user_mail(driver):\n",
    "    try:\n",
    "        driver.find_element(By.XPATH,'//input[@class=\"r-30o5oe r-1dz5y72 r-13qz1uu r-1niwhzg r-17gur6a r-1yadl64 r-deolkf r-homxoj r-poiln3 r-7cikom r-1ny4l3l r-t60dpp r-fdjqy7\"]').send_keys(userEmail)\n",
    "        time.sleep(1)\n",
    "        driver.find_element(By.XPATH,'//button[@class=\"css-175oi2r r-sdzlij r-1phboty r-rs99b7 r-lrvibr r-ywje51 r-184id4b r-13qz1uu r-2yi16 r-1qi8awa r-3pj75a r-1loqt21 r-o7ynqc r-6416eg r-1ny4l3l\"]').click()\n",
    "    except:\n",
    "        time.sleep(10)\n",
    "        user_mail(driver)\n",
    "\n",
    "def user_name(driver):\n",
    "    try:\n",
    "        driver.find_element(By.XPATH,'//input[@class=\"r-30o5oe r-1dz5y72 r-13qz1uu r-1niwhzg r-17gur6a r-1yadl64 r-deolkf r-homxoj r-poiln3 r-7cikom r-1ny4l3l r-t60dpp r-fdjqy7\"]').send_keys(userName)\n",
    "        time.sleep(3)\n",
    "        driver.find_element(By.XPATH,'//button[@class=\"css-175oi2r r-sdzlij r-1phboty r-rs99b7 r-lrvibr r-19yznuf r-64el8z r-1fkl15p r-1loqt21 r-o7ynqc r-6416eg r-1ny4l3l\"]').click()\n",
    "    except:\n",
    "        time.sleep(10)\n",
    "        user_name(driver)\n",
    "        \n",
    "def user_pass(driver):\n",
    "    try:\n",
    "        driver.find_element(By.XPATH,'//input[@class=\"r-30o5oe r-1dz5y72 r-13qz1uu r-1niwhzg r-17gur6a r-1yadl64 r-deolkf r-homxoj r-poiln3 r-7cikom r-1ny4l3l r-t60dpp r-fdjqy7\"]').send_keys(passWord)\n",
    "        time.sleep(3)\n",
    "        driver.find_element(By.XPATH,'//button[@class=\"css-175oi2r r-sdzlij r-1phboty r-rs99b7 r-lrvibr r-19yznuf r-64el8z r-1fkl15p r-1loqt21 r-o7ynqc r-6416eg r-1ny4l3l\"]').click()\n",
    "    except:\n",
    "        time.sleep(10)\n",
    "        user_pass(driver)\n",
    "\n",
    "\n"
   ]
  },
  {
   "cell_type": "code",
   "execution_count": 10,
   "metadata": {},
   "outputs": [
    {
     "data": {
      "text/plain": [
       "{'name': 'Ranoshis Das',\n",
       " 'username': '@ranoshis',\n",
       " 'bio': 'Do what ever you want that gives you happiness Ψ(≧ω≦)Ψ',\n",
       " 'occupation': None,\n",
       " 'location': 'West Bengal, India',\n",
       " 'born': 'October 25',\n",
       " 'joined': 'March 2020',\n",
       " 'following': 15,\n",
       " 'followers': 20}"
      ]
     },
     "execution_count": 10,
     "metadata": {},
     "output_type": "execute_result"
    }
   ],
   "source": [
    "parsed_data"
   ]
  }
 ],
 "metadata": {
  "kernelspec": {
   "display_name": ".venv",
   "language": "python",
   "name": "python3"
  },
  "language_info": {
   "codemirror_mode": {
    "name": "ipython",
    "version": 3
   },
   "file_extension": ".py",
   "mimetype": "text/x-python",
   "name": "python",
   "nbconvert_exporter": "python",
   "pygments_lexer": "ipython3",
   "version": "3.12.2"
  }
 },
 "nbformat": 4,
 "nbformat_minor": 2
}
